{
  "nbformat": 4,
  "nbformat_minor": 0,
  "metadata": {
    "colab": {
      "provenance": [],
      "authorship_tag": "ABX9TyOqguxSB+u7RC992NkAKTSp",
      "include_colab_link": true
    },
    "kernelspec": {
      "name": "python3",
      "display_name": "Python 3"
    },
    "language_info": {
      "name": "python"
    }
  },
  "cells": [
    {
      "cell_type": "markdown",
      "metadata": {
        "id": "view-in-github",
        "colab_type": "text"
      },
      "source": [
        "<a href=\"https://colab.research.google.com/github/swatilisa45/Nlp-analiysis/blob/main/Nlp_Analysis.ipynb\" target=\"_parent\"><img src=\"https://colab.research.google.com/assets/colab-badge.svg\" alt=\"Open In Colab\"/></a>"
      ]
    },
    {
      "cell_type": "code",
      "execution_count": null,
      "metadata": {
        "id": "L6BJvrOwc3uA"
      },
      "outputs": [],
      "source": [
        "import re\n",
        "\n",
        "text =\"I am a data scientist\"\n",
        "pattern = \"am\"\n",
        "\n",
        "match = re.search(pattern,text)\n",
        "if match:\n",
        "  print(\"Found a match:\",match.group())\n",
        "else:\n",
        "  print(\"No match Found\")"
      ]
    },
    {
      "cell_type": "code",
      "source": [
        "text =\"I am a data analyst\"\n",
        "pattern = \"analyst\"\n",
        "replacement =\"scientist\"\n",
        "\n",
        "new_text =re.sub(pattern,replacement,text)\n",
        "print(\"Original Text:\",text)\n",
        "print(\"New Text:\",new_text)"
      ],
      "metadata": {
        "id": "n3Jv37r7c7bg"
      },
      "execution_count": null,
      "outputs": []
    },
    {
      "cell_type": "code",
      "source": [
        "test1 = \"Hey, this is best : for ! us ;\"\n",
        "\n",
        "print(\"the original string is:\",test1)\n",
        "res =  re.sub(r'[^\\w\\s]',' ',test1)\n",
        "print(\"The String after punctuation filter :\"+res)\n"
      ],
      "metadata": {
        "id": "szSEt3WYc7du"
      },
      "execution_count": null,
      "outputs": []
    },
    {
      "cell_type": "code",
      "source": [
        "import nltk\n",
        "nltk.download('punkt_tab')\n"
      ],
      "metadata": {
        "id": "-8M0Mh2Cc7f_"
      },
      "execution_count": null,
      "outputs": []
    },
    {
      "cell_type": "code",
      "source": [
        "text = \"This is an example sentence. Another sentence is here \"\n",
        "tokens = nltk.word_tokenize(text)\n",
        "print(tokens)"
      ],
      "metadata": {
        "id": "vPQhXRVVc7iH"
      },
      "execution_count": null,
      "outputs": []
    },
    {
      "cell_type": "code",
      "source": [
        "text = \"This is the first sentence. This is the second sentence. and this is the third sentence.\"\n",
        "sentence = nltk.sent_tokenize(text)\n",
        "print(sentence)"
      ],
      "metadata": {
        "id": "vMuKYBq8c7kX"
      },
      "execution_count": null,
      "outputs": []
    },
    {
      "cell_type": "code",
      "source": [
        "from nltk.util import ngrams\n",
        "\n",
        "text = \"The quick brown fowx jump over the lazy dog\"\n",
        "\n",
        "tokens = nltk.word_tokenize(text)\n",
        "\n",
        "bigrams = list(ngrams(tokens,2))\n",
        "trigrams = list(ngrams(tokens,3))\n",
        "\n",
        "print(\"Original text:\",text)\n",
        "print(\"Tokens:\",tokens)\n",
        "print(\"Bigrams:\",bigrams)\n",
        "print(\"Trigrams:\",trigrams)"
      ],
      "metadata": {
        "id": "32aPPt8Kc7mX"
      },
      "execution_count": null,
      "outputs": []
    },
    {
      "cell_type": "code",
      "source": [
        "from nltk.stem import PorterStemmer\n",
        "\n",
        "stemmer = PorterStemmer()\n",
        "\n",
        "word = \"Jumping\"\n",
        "stemmed_word = stemmer.stem(word)\n",
        "print(stemmed_word)"
      ],
      "metadata": {
        "id": "KAqu5dkYdSYt"
      },
      "execution_count": null,
      "outputs": []
    },
    {
      "cell_type": "code",
      "source": [
        "import nltk\n",
        "nltk.download('omw-1.4')\n",
        "from nltk.stem import WordNetLemmatizer\n",
        "\n",
        "nltk.download('wordnet')\n",
        "\n",
        "lemmatizer = WordNetLemmatizer()\n",
        "word = \"jumping\"\n",
        "\n",
        "lemma_word = lemmatizer.lemmatize(word, pos=\"v\")\n",
        "\n",
        "print(lemma_word)"
      ],
      "metadata": {
        "id": "MKbZjYabdSbO"
      },
      "execution_count": null,
      "outputs": []
    },
    {
      "cell_type": "code",
      "source": [
        "from nltk.corpus import stopwords\n",
        "nltk.download('stopwords')\n",
        "\n",
        "stop_words = set(stopwords.words('english'))\n",
        "\n",
        "text = \"this is an example sentence that includes stop words\"\n",
        "\n",
        "tokens = nltk.word_tokenize(text)\n",
        "\n",
        "filtered_tokens = [word for word in tokens if not word.lower() in stop_words]\n",
        "\n",
        "filtered_text = ' '.join(filtered_tokens)\n",
        "\n",
        "print(\"data\",filtered_text)\n"
      ],
      "metadata": {
        "id": "2Nlxh_1KdSet"
      },
      "execution_count": null,
      "outputs": []
    },
    {
      "cell_type": "code",
      "source": [
        "from nltk.tokenize import word_tokenize\n",
        "nltk.download('averaged_perceptron_tagger_eng')\n",
        "\n",
        "text = \"The quick brown fox jumps over the lazy dog\"\n",
        "tokens = word_tokenize(text)\n",
        "pos_tags = nltk.pos_tag(tokens)\n",
        "print(pos_tags)"
      ],
      "metadata": {
        "id": "2btDckWldSkn"
      },
      "execution_count": null,
      "outputs": []
    },
    {
      "cell_type": "code",
      "source": [
        "from nltk import pos_tag, ne_chunk\n",
        "nltk.download('maxent_ne_chunker_tab')\n",
        "nltk.download('words')\n",
        "\n",
        "text = \"Apple is expected to launch its new iPhone is September at the Steve Jobs Theater in California.\"\n",
        "\n",
        "tokens = word_tokenize(text)\n",
        "\n",
        "tagged = pos_tag(tokens)\n",
        "\n",
        "ne = ne_chunk(tagged)\n",
        "\n",
        "for chunk in ne:\n",
        "  if hasattr(chunk,'label'):\n",
        "    print(chunk.label(),' '.join(c[0] for c in chunk))\n"
      ],
      "metadata": {
        "id": "9rw_Y_DYd6lp"
      },
      "execution_count": null,
      "outputs": []
    },
    {
      "cell_type": "code",
      "source": [
        "from nltk.sentiment import SentimentIntensityAnalyzer\n",
        "nltk.download('vader_lexicon')\n",
        "\n",
        "sid = SentimentIntensityAnalyzer()\n",
        "\n",
        "text = \"I hate this product It would not work perfectly and I would definetly recommend it to anyone\"\n",
        "\n",
        "scores = sid.polarity_scores(text)\n",
        "\n",
        "print(scores)\n"
      ],
      "metadata": {
        "id": "x-0zyCBGd6n7"
      },
      "execution_count": null,
      "outputs": []
    }
  ]
}